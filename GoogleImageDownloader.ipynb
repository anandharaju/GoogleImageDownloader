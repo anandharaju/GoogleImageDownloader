{
 "cells": [
  {
   "cell_type": "markdown",
   "metadata": {},
   "source": [
    "# Dowload images from Google"
   ]
  },
  {
   "cell_type": "code",
   "execution_count": null,
   "metadata": {},
   "outputs": [],
   "source": [
    "from google_images_download import google_images_download   #importing the library\n",
    "\n",
    "response = google_images_download.googleimagesdownload()   #class instantiation\n",
    "\n",
    "arguments = {\"output_directory\":\"dir\",\"keywords\":\"lifting shackle\",\"print_urls\":True,\"url\":\"https://www.google.com/search?q=lifting+shackle&newwindow=1&rlz=1C1CHBF_enCA846CA846&source=lnms&tbm=isch&sa=X&ved=0ahUKEwiPm9HN5sbiAhV6FjQIHWRpAZ0Q_AUIECgB&biw=1536&bih=763\"}   #creating list of arguments\n",
    "paths = response.download(arguments)   #passing the arguments to the function\n",
    "#print(paths)   #printing absolute paths of the downloaded images"
   ]
  }
 ],
 "metadata": {
  "kernelspec": {
   "display_name": "Python 3",
   "language": "python",
   "name": "python3"
  },
  "language_info": {
   "codemirror_mode": {
    "name": "ipython",
    "version": 3
   },
   "file_extension": ".py",
   "mimetype": "text/x-python",
   "name": "python",
   "nbconvert_exporter": "python",
   "pygments_lexer": "ipython3",
   "version": "3.7.1"
  }
 },
 "nbformat": 4,
 "nbformat_minor": 2
}
